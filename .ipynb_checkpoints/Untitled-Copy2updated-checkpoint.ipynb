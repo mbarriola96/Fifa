{
 "cells": [
  {
   "cell_type": "code",
   "execution_count": 144,
   "id": "0d8c60b4",
   "metadata": {},
   "outputs": [],
   "source": [
    "import pandas as pd\n",
    "import statistics as stats\n",
    "import numpy as np\n",
    "import math\n",
    "import seaborn as sns\n",
    "import matplotlib.pyplot as plt\n",
    "%matplotlib inline \n",
    " \n",
    "from sklearn import linear_model\n",
    "from sklearn.metrics import mean_squared_error, r2_score, mean_absolute_error\n",
    "from sklearn.preprocessing import MinMaxScaler, StandardScaler, OneHotEncoder  \n",
    "from sklearn.model_selection import train_test_split"
   ]
  },
  {
   "cell_type": "code",
   "execution_count": 145,
   "id": "bd41b020",
   "metadata": {},
   "outputs": [],
   "source": [
    "file = pd.read_csv('fifa21_train.csv')"
   ]
  },
  {
   "cell_type": "markdown",
   "id": "9b150cad",
   "metadata": {},
   "source": [
    "## Data Cleaning"
   ]
  },
  {
   "cell_type": "code",
   "execution_count": 146,
   "id": "f804c00b",
   "metadata": {},
   "outputs": [],
   "source": [
    "def split_str(categoricals):   \n",
    "    for column in categoricals:\n",
    "        if [categoricals[column].isin(['+-'])]:\n",
    "            categoricals[column] = categoricals[column].str.split('+').str[0]\n",
    "        elif [(categoricals[column].isin(['-']))]:\n",
    "            categoricals[column] = categoricals[column].str.split('-').str[0]\n",
    "        else: \n",
    "            categoricals[column] = categoricals[column].str.split('+').str[0]\n",
    "    return categoricals"
   ]
  },
  {
   "cell_type": "markdown",
   "id": "66fc6136",
   "metadata": {},
   "source": [
    "def split_str(df): \n",
    "    \n",
    "    lst = ['LS', 'ST', 'RS', 'LW', 'LF', 'CF', 'RF',\n",
    "       'RW', 'LAM', 'CAM', 'RAM', 'LM', 'LCM', 'CM', 'RCM', 'RM', 'LWB', 'LDM',\n",
    "       'CDM', 'RDM', 'RWB', 'LB', 'LCB', 'CB', 'RCB', 'RB', 'GK']\n",
    "    \n",
    "    for i in lst:\n",
    "        df[[i, i + '_pot']] = df[i].str.split('+', expand=True)\n",
    "        df[i + '_pot'] = df[i + '_pot'].astype('int') + df[i].astype('int')\n",
    "        df[i + '_pot'] = df[i + '_pot'].astype('int')\n",
    "        df[i] = df[i].astype('int')\n",
    "    \n",
    "    return df"
   ]
  },
  {
   "cell_type": "code",
   "execution_count": 147,
   "id": "713d309d",
   "metadata": {},
   "outputs": [],
   "source": [
    "def remove_char(categoricals):\n",
    "    specialchars = ['€','★',\"lbs\"]\n",
    "    for char in specialchars:\n",
    "        for column in categoricals:\n",
    "            categoricals[column] = categoricals[column].replace(specialchars,'', regex=True)\n",
    "    return categoricals"
   ]
  },
  {
   "cell_type": "code",
   "execution_count": 148,
   "id": "e3190025",
   "metadata": {},
   "outputs": [],
   "source": [
    "def height_to_cm(categoricals):\n",
    "    H_feet = categoricals['Height'].str.split(\"'\").str[0]\n",
    "    H_inch = categoricals['Height'].str.split(\"'\").str[1].str.split(\"\\\"\").str[0]\n",
    "    categoricals['Height'] = (H_feet.astype(float) * 30.48) + (H_inch.astype(float) * 2.54)\n",
    "    return categoricals"
   ]
  },
  {
   "cell_type": "code",
   "execution_count": 149,
   "id": "c88f85da",
   "metadata": {},
   "outputs": [],
   "source": [
    "def K_M_multiply(categoricals):\n",
    "    categoricals['Release_Clause'] = categoricals['Release_Clause'].replace({'€': '', 'K': '*1e3', 'M': '*1e6'}, regex=True).map(pd.eval).astype(float)\n",
    "    categoricals['Wage'] = categoricals['Wage'].replace({'€': '', 'K': '*1e3', 'M': '*1e6'}, regex=True).map(pd.eval).astype(float)\n",
    "    categoricals['Value'] = categoricals['Value'].replace({'€': '', 'K': '*1e3', 'M': '*1e6'}, regex=True).map(pd.eval).astype(float)\n",
    "    categoricals['Hits'] = categoricals['Hits'].replace({'€': '', 'K': '*1e3', 'M': '*1e6'}, regex=True).map(pd.eval).astype(float)\n",
    "    return categoricals"
   ]
  },
  {
   "cell_type": "code",
   "execution_count": 150,
   "id": "f090f5a8",
   "metadata": {},
   "outputs": [],
   "source": [
    "def object_to_num(categoricals):\n",
    "    col_to_numercic = ['Weight', 'Value', 'Wage', 'Release_Clause', 'W/F', 'SM', 'IR', 'Hits', 'LS', 'ST', 'RS', 'LW', 'LF', 'CF', 'RF', 'RW', 'LAM', 'CAM', 'RAM', 'LM', 'LCM', 'CM', 'RCM', 'RM', 'LWB', 'LDM', 'CDM', 'RDM', 'RWB', 'LB', 'LCB', 'CB', 'RCB', 'RB', 'GK']\n",
    "    for i in range(len(col_to_numercic)):\n",
    "        categoricals[col_to_numercic[i]] =  pd.to_numeric(categoricals[col_to_numercic[i]])\n",
    "    return categoricals"
   ]
  },
  {
   "cell_type": "code",
   "execution_count": 151,
   "id": "8e05a3a1",
   "metadata": {},
   "outputs": [],
   "source": [
    "def data_clear(file):\n",
    "    file.columns = list(map(lambda x: x.replace(\" \",\"_\"), file.columns))\n",
    "    file=file.drop(['Club', 'BP','ID', 'Name', 'Nationality', 'Joined','Contract', 'Team_&_Contract', 'Loan_Date_End', 'Position'], axis=1 )\n",
    "    file=file.dropna()\n",
    "    file = file.drop_duplicates()\n",
    "    numerical = file._get_numeric_data()\n",
    "    categoricals = file.select_dtypes(['object'])\n",
    "    split_str(categoricals)\n",
    "    remove_char(categoricals)\n",
    "    K_M_multiply(categoricals)\n",
    "    height_to_cm(categoricals)\n",
    "    object_to_num(categoricals)\n",
    "    cleaned_data = pd.concat([numerical, categoricals], axis=1)\n",
    "    return cleaned_data"
   ]
  },
  {
   "cell_type": "code",
   "execution_count": 152,
   "id": "5ed44a84",
   "metadata": {},
   "outputs": [
    {
     "name": "stderr",
     "output_type": "stream",
     "text": [
      "C:\\Users\\franc\\AppData\\Local\\Temp/ipykernel_6016/1524651834.py:4: SettingWithCopyWarning: \n",
      "A value is trying to be set on a copy of a slice from a DataFrame.\n",
      "Try using .loc[row_indexer,col_indexer] = value instead\n",
      "\n",
      "See the caveats in the documentation: https://pandas.pydata.org/pandas-docs/stable/user_guide/indexing.html#returning-a-view-versus-a-copy\n",
      "  categoricals[column] = categoricals[column].str.split('+').str[0]\n",
      "C:\\Users\\franc\\AppData\\Local\\Temp/ipykernel_6016/1681015626.py:5: SettingWithCopyWarning: \n",
      "A value is trying to be set on a copy of a slice from a DataFrame.\n",
      "Try using .loc[row_indexer,col_indexer] = value instead\n",
      "\n",
      "See the caveats in the documentation: https://pandas.pydata.org/pandas-docs/stable/user_guide/indexing.html#returning-a-view-versus-a-copy\n",
      "  categoricals[column] = categoricals[column].replace(specialchars,'', regex=True)\n",
      "C:\\Users\\franc\\AppData\\Local\\Temp/ipykernel_6016/1315139941.py:2: SettingWithCopyWarning: \n",
      "A value is trying to be set on a copy of a slice from a DataFrame.\n",
      "Try using .loc[row_indexer,col_indexer] = value instead\n",
      "\n",
      "See the caveats in the documentation: https://pandas.pydata.org/pandas-docs/stable/user_guide/indexing.html#returning-a-view-versus-a-copy\n",
      "  categoricals['Release_Clause'] = categoricals['Release_Clause'].replace({'€': '', 'K': '*1e3', 'M': '*1e6'}, regex=True).map(pd.eval).astype(float)\n",
      "C:\\Users\\franc\\AppData\\Local\\Temp/ipykernel_6016/1315139941.py:3: SettingWithCopyWarning: \n",
      "A value is trying to be set on a copy of a slice from a DataFrame.\n",
      "Try using .loc[row_indexer,col_indexer] = value instead\n",
      "\n",
      "See the caveats in the documentation: https://pandas.pydata.org/pandas-docs/stable/user_guide/indexing.html#returning-a-view-versus-a-copy\n",
      "  categoricals['Wage'] = categoricals['Wage'].replace({'€': '', 'K': '*1e3', 'M': '*1e6'}, regex=True).map(pd.eval).astype(float)\n"
     ]
    }
   ],
   "source": [
    "cleaned_data = data_clear(file)"
   ]
  },
  {
   "cell_type": "markdown",
   "id": "b23c2a34",
   "metadata": {},
   "source": [
    "## Data Encoding and Normalization"
   ]
  },
  {
   "cell_type": "code",
   "execution_count": 153,
   "id": "d0f23431",
   "metadata": {},
   "outputs": [],
   "source": [
    "y = cleaned_data['OVA']"
   ]
  },
  {
   "cell_type": "code",
   "execution_count": 154,
   "id": "ae0eb89f",
   "metadata": {
    "scrolled": true
   },
   "outputs": [],
   "source": [
    "\n",
    "from sklearn.preprocessing import OneHotEncoder\n",
    "categoricals = cleaned_data.select_dtypes(['object'])\n",
    "encoder = OneHotEncoder(drop='first').fit(categoricals)\n",
    "encoded = encoder.transform(categoricals).toarray()\n",
    "cols = encoder.get_feature_names(input_features=categoricals.columns)\n",
    "onehot_encoded = pd.DataFrame(encoded, columns=cols)"
   ]
  },
  {
   "cell_type": "code",
   "execution_count": null,
   "id": "fd3951b0",
   "metadata": {},
   "outputs": [],
   "source": []
  },
  {
   "cell_type": "code",
   "execution_count": 155,
   "id": "a6a85d88",
   "metadata": {},
   "outputs": [],
   "source": [
    "\n",
    "from sklearn.preprocessing import MinMaxScaler\n",
    "cleaned_data = cleaned_data.drop(['OVA'], axis=1)\n",
    "numerical = cleaned_data._get_numeric_data()\n",
    "transformer = MinMaxScaler().fit(numerical)\n",
    "X_normalized = transformer.transform(numerical)\n",
    "X_normalized = pd.DataFrame(X_normalized, columns=numerical.columns)\n"
   ]
  },
  {
   "cell_type": "code",
   "execution_count": 156,
   "id": "7cf130f4",
   "metadata": {},
   "outputs": [],
   "source": [
    "#onehot_encoded = encoding(cleaned_data)\n",
    "#X_normalized = normalizing(cleaned_data)"
   ]
  },
  {
   "cell_type": "code",
   "execution_count": 157,
   "id": "7dc5df1e",
   "metadata": {},
   "outputs": [],
   "source": [
    "X_concat = pd.concat([X_normalized, onehot_encoded], axis=1)"
   ]
  },
  {
   "cell_type": "markdown",
   "id": "9c765bb4",
   "metadata": {},
   "source": [
    "## Defining X,y"
   ]
  },
  {
   "cell_type": "code",
   "execution_count": 158,
   "id": "f08ea478",
   "metadata": {},
   "outputs": [],
   "source": [
    "\n",
    "X = X_concat"
   ]
  },
  {
   "cell_type": "markdown",
   "id": "2b923664",
   "metadata": {},
   "source": [
    "## Training the model"
   ]
  },
  {
   "cell_type": "code",
   "execution_count": 159,
   "id": "db4e4933",
   "metadata": {},
   "outputs": [],
   "source": [
    "X_train, X_test, y_train, y_test = train_test_split(X, y, test_size=0.2, random_state=42)"
   ]
  },
  {
   "cell_type": "code",
   "execution_count": 160,
   "id": "220f487c",
   "metadata": {},
   "outputs": [
    {
     "data": {
      "text/plain": [
       "LinearRegression()"
      ]
     },
     "execution_count": 160,
     "metadata": {},
     "output_type": "execute_result"
    }
   ],
   "source": [
    "lm = linear_model.LinearRegression()\n",
    "lm.fit(X_train,y_train)"
   ]
  },
  {
   "cell_type": "code",
   "execution_count": 161,
   "id": "19b5d322",
   "metadata": {},
   "outputs": [
    {
     "name": "stdout",
     "output_type": "stream",
     "text": [
      "(9137, 92)\n",
      "(2285, 92)\n",
      "(9137,)\n",
      "(2285,)\n"
     ]
    }
   ],
   "source": [
    "print(X_train.shape)\n",
    "print(X_test.shape)\n",
    "print(y_train.shape)\n",
    "print(y_test.shape)"
   ]
  },
  {
   "cell_type": "code",
   "execution_count": 162,
   "id": "b2755356",
   "metadata": {},
   "outputs": [
    {
     "data": {
      "text/plain": [
       "0.9144438600725543"
      ]
     },
     "execution_count": 162,
     "metadata": {},
     "output_type": "execute_result"
    }
   ],
   "source": [
    "predictions = lm.predict(X_train)\n",
    "r2_score(y_train, predictions)"
   ]
  },
  {
   "cell_type": "code",
   "execution_count": 163,
   "id": "b91dfd75",
   "metadata": {},
   "outputs": [
    {
     "data": {
      "text/plain": [
       "0.9087974109870399"
      ]
     },
     "execution_count": 163,
     "metadata": {},
     "output_type": "execute_result"
    }
   ],
   "source": [
    "predictions = lm.predict(X_test)\n",
    "r2_score(y_test, predictions)"
   ]
  },
  {
   "cell_type": "code",
   "execution_count": 164,
   "id": "54d033e2",
   "metadata": {},
   "outputs": [],
   "source": [
    "results = lm.predict(X)\n",
    "\n",
    "results_OVA = pd.concat([file,pd.Series(results)],axis=1)"
   ]
  },
  {
   "cell_type": "code",
   "execution_count": 165,
   "id": "7a1b4636",
   "metadata": {},
   "outputs": [
    {
     "data": {
      "text/html": [
       "<div>\n",
       "<style scoped>\n",
       "    .dataframe tbody tr th:only-of-type {\n",
       "        vertical-align: middle;\n",
       "    }\n",
       "\n",
       "    .dataframe tbody tr th {\n",
       "        vertical-align: top;\n",
       "    }\n",
       "\n",
       "    .dataframe thead th {\n",
       "        text-align: right;\n",
       "    }\n",
       "</style>\n",
       "<table border=\"1\" class=\"dataframe\">\n",
       "  <thead>\n",
       "    <tr style=\"text-align: right;\">\n",
       "      <th></th>\n",
       "      <th>ID</th>\n",
       "      <th>Name</th>\n",
       "      <th>Age</th>\n",
       "      <th>Nationality</th>\n",
       "      <th>Club</th>\n",
       "      <th>BP</th>\n",
       "      <th>Position</th>\n",
       "      <th>Team_&amp;_Contract</th>\n",
       "      <th>Height</th>\n",
       "      <th>Weight</th>\n",
       "      <th>...</th>\n",
       "      <th>RDM</th>\n",
       "      <th>RWB</th>\n",
       "      <th>LB</th>\n",
       "      <th>LCB</th>\n",
       "      <th>CB</th>\n",
       "      <th>RCB</th>\n",
       "      <th>RB</th>\n",
       "      <th>GK</th>\n",
       "      <th>OVA</th>\n",
       "      <th>0</th>\n",
       "    </tr>\n",
       "  </thead>\n",
       "  <tbody>\n",
       "    <tr>\n",
       "      <th>0</th>\n",
       "      <td>184383</td>\n",
       "      <td>A. Pasche</td>\n",
       "      <td>26</td>\n",
       "      <td>Switzerland</td>\n",
       "      <td>FC Lausanne-Sport</td>\n",
       "      <td>CM</td>\n",
       "      <td>CM CDM</td>\n",
       "      <td>FC Lausanne-Sport 2015 ~ 2020</td>\n",
       "      <td>5'9\"</td>\n",
       "      <td>161lbs</td>\n",
       "      <td>...</td>\n",
       "      <td>59+1</td>\n",
       "      <td>59+1</td>\n",
       "      <td>58+1</td>\n",
       "      <td>54+1</td>\n",
       "      <td>54+1</td>\n",
       "      <td>54+1</td>\n",
       "      <td>58+1</td>\n",
       "      <td>15+1</td>\n",
       "      <td>64</td>\n",
       "      <td>64.931946</td>\n",
       "    </tr>\n",
       "    <tr>\n",
       "      <th>1</th>\n",
       "      <td>188044</td>\n",
       "      <td>Alan Carvalho</td>\n",
       "      <td>30</td>\n",
       "      <td>China PR</td>\n",
       "      <td>Beijing Sinobo Guoan FC</td>\n",
       "      <td>ST</td>\n",
       "      <td>ST LW LM</td>\n",
       "      <td>Beijing Sinobo Guoan FC Dec 31, 2020 On Loan</td>\n",
       "      <td>6'0\"</td>\n",
       "      <td>159lbs</td>\n",
       "      <td>...</td>\n",
       "      <td>53+2</td>\n",
       "      <td>57+2</td>\n",
       "      <td>53+2</td>\n",
       "      <td>48+2</td>\n",
       "      <td>48+2</td>\n",
       "      <td>48+2</td>\n",
       "      <td>53+2</td>\n",
       "      <td>18+2</td>\n",
       "      <td>77</td>\n",
       "      <td>77.663040</td>\n",
       "    </tr>\n",
       "    <tr>\n",
       "      <th>2</th>\n",
       "      <td>184431</td>\n",
       "      <td>S. Giovinco</td>\n",
       "      <td>33</td>\n",
       "      <td>Italy</td>\n",
       "      <td>Al Hilal</td>\n",
       "      <td>CAM</td>\n",
       "      <td>CAM CF</td>\n",
       "      <td>Al Hilal 2019 ~ 2022</td>\n",
       "      <td>5'4\"</td>\n",
       "      <td>134lbs</td>\n",
       "      <td>...</td>\n",
       "      <td>56+2</td>\n",
       "      <td>59+2</td>\n",
       "      <td>53+2</td>\n",
       "      <td>41+2</td>\n",
       "      <td>41+2</td>\n",
       "      <td>41+2</td>\n",
       "      <td>53+2</td>\n",
       "      <td>12+2</td>\n",
       "      <td>80</td>\n",
       "      <td>75.848694</td>\n",
       "    </tr>\n",
       "    <tr>\n",
       "      <th>3</th>\n",
       "      <td>233796</td>\n",
       "      <td>J. Evans</td>\n",
       "      <td>22</td>\n",
       "      <td>Wales</td>\n",
       "      <td>Swansea City</td>\n",
       "      <td>CDM</td>\n",
       "      <td>CDM CM</td>\n",
       "      <td>Swansea City 2016 ~ 2021</td>\n",
       "      <td>5'10\"</td>\n",
       "      <td>152lbs</td>\n",
       "      <td>...</td>\n",
       "      <td>58+2</td>\n",
       "      <td>56+2</td>\n",
       "      <td>57+2</td>\n",
       "      <td>58+2</td>\n",
       "      <td>58+2</td>\n",
       "      <td>58+2</td>\n",
       "      <td>57+2</td>\n",
       "      <td>14+2</td>\n",
       "      <td>59</td>\n",
       "      <td>61.909637</td>\n",
       "    </tr>\n",
       "    <tr>\n",
       "      <th>4</th>\n",
       "      <td>234799</td>\n",
       "      <td>Y. Demoncy</td>\n",
       "      <td>23</td>\n",
       "      <td>France</td>\n",
       "      <td>US Orléans Loiret Football</td>\n",
       "      <td>CDM</td>\n",
       "      <td>CDM CM</td>\n",
       "      <td>US Orléans Loiret Football 2018 ~ 2021</td>\n",
       "      <td>5'11\"</td>\n",
       "      <td>150lbs</td>\n",
       "      <td>...</td>\n",
       "      <td>64+2</td>\n",
       "      <td>64+2</td>\n",
       "      <td>63+2</td>\n",
       "      <td>61+2</td>\n",
       "      <td>61+2</td>\n",
       "      <td>61+2</td>\n",
       "      <td>63+2</td>\n",
       "      <td>15+2</td>\n",
       "      <td>65</td>\n",
       "      <td>67.096069</td>\n",
       "    </tr>\n",
       "  </tbody>\n",
       "</table>\n",
       "<p>5 rows × 102 columns</p>\n",
       "</div>"
      ],
      "text/plain": [
       "       ID           Name  Age  Nationality                        Club   BP  \\\n",
       "0  184383      A. Pasche   26  Switzerland           FC Lausanne-Sport   CM   \n",
       "1  188044  Alan Carvalho   30     China PR     Beijing Sinobo Guoan FC   ST   \n",
       "2  184431    S. Giovinco   33        Italy                    Al Hilal  CAM   \n",
       "3  233796       J. Evans   22        Wales                Swansea City  CDM   \n",
       "4  234799     Y. Demoncy   23       France  US Orléans Loiret Football  CDM   \n",
       "\n",
       "   Position                               Team_&_Contract Height  Weight  ...  \\\n",
       "0    CM CDM                 FC Lausanne-Sport 2015 ~ 2020   5'9\"  161lbs  ...   \n",
       "1  ST LW LM  Beijing Sinobo Guoan FC Dec 31, 2020 On Loan   6'0\"  159lbs  ...   \n",
       "2    CAM CF                          Al Hilal 2019 ~ 2022   5'4\"  134lbs  ...   \n",
       "3    CDM CM                      Swansea City 2016 ~ 2021  5'10\"  152lbs  ...   \n",
       "4    CDM CM        US Orléans Loiret Football 2018 ~ 2021  5'11\"  150lbs  ...   \n",
       "\n",
       "    RDM   RWB    LB   LCB    CB   RCB    RB    GK  OVA          0  \n",
       "0  59+1  59+1  58+1  54+1  54+1  54+1  58+1  15+1   64  64.931946  \n",
       "1  53+2  57+2  53+2  48+2  48+2  48+2  53+2  18+2   77  77.663040  \n",
       "2  56+2  59+2  53+2  41+2  41+2  41+2  53+2  12+2   80  75.848694  \n",
       "3  58+2  56+2  57+2  58+2  58+2  58+2  57+2  14+2   59  61.909637  \n",
       "4  64+2  64+2  63+2  61+2  61+2  61+2  63+2  15+2   65  67.096069  \n",
       "\n",
       "[5 rows x 102 columns]"
      ]
     },
     "execution_count": 165,
     "metadata": {},
     "output_type": "execute_result"
    }
   ],
   "source": [
    "results_OVA.head()"
   ]
  },
  {
   "cell_type": "markdown",
   "id": "bd24be2a",
   "metadata": {},
   "source": [
    "#### MSE"
   ]
  },
  {
   "cell_type": "code",
   "execution_count": 166,
   "id": "5f5f4382",
   "metadata": {},
   "outputs": [
    {
     "name": "stdout",
     "output_type": "stream",
     "text": [
      "4.272216280507172\n"
     ]
    }
   ],
   "source": [
    "mse = mean_squared_error(y_test,predictions)\n",
    "print(mse)"
   ]
  },
  {
   "cell_type": "markdown",
   "id": "ff980292",
   "metadata": {},
   "source": [
    "#### RMSE"
   ]
  },
  {
   "cell_type": "code",
   "execution_count": 167,
   "id": "b439d030",
   "metadata": {},
   "outputs": [
    {
     "name": "stdout",
     "output_type": "stream",
     "text": [
      "2.066934029065072\n"
     ]
    }
   ],
   "source": [
    "rmse = math.sqrt(mse)\n",
    "print(rmse)"
   ]
  },
  {
   "cell_type": "markdown",
   "id": "b7f05c00",
   "metadata": {},
   "source": [
    "#### MAE"
   ]
  },
  {
   "cell_type": "code",
   "execution_count": 168,
   "id": "bdd530f7",
   "metadata": {},
   "outputs": [
    {
     "name": "stdout",
     "output_type": "stream",
     "text": [
      "1.611789067308021\n"
     ]
    }
   ],
   "source": [
    "mae = mean_absolute_error(y_test, predictions)\n",
    "print(mae)"
   ]
  },
  {
   "cell_type": "markdown",
   "id": "14816596",
   "metadata": {},
   "source": [
    "## VALIDATION"
   ]
  },
  {
   "cell_type": "code",
   "execution_count": 169,
   "id": "16bcb84e",
   "metadata": {},
   "outputs": [],
   "source": [
    "file_val = pd.read_csv('fifa21_validate.csv')"
   ]
  },
  {
   "cell_type": "code",
   "execution_count": 170,
   "id": "f3373559",
   "metadata": {},
   "outputs": [
    {
     "data": {
      "text/plain": [
       "(1999, 101)"
      ]
     },
     "execution_count": 170,
     "metadata": {},
     "output_type": "execute_result"
    }
   ],
   "source": [
    "file_val.shape"
   ]
  },
  {
   "cell_type": "code",
   "execution_count": 171,
   "id": "28159d23",
   "metadata": {},
   "outputs": [
    {
     "name": "stderr",
     "output_type": "stream",
     "text": [
      "C:\\Users\\franc\\AppData\\Local\\Temp/ipykernel_6016/1524651834.py:4: SettingWithCopyWarning: \n",
      "A value is trying to be set on a copy of a slice from a DataFrame.\n",
      "Try using .loc[row_indexer,col_indexer] = value instead\n",
      "\n",
      "See the caveats in the documentation: https://pandas.pydata.org/pandas-docs/stable/user_guide/indexing.html#returning-a-view-versus-a-copy\n",
      "  categoricals[column] = categoricals[column].str.split('+').str[0]\n",
      "C:\\Users\\franc\\AppData\\Local\\Temp/ipykernel_6016/1681015626.py:5: SettingWithCopyWarning: \n",
      "A value is trying to be set on a copy of a slice from a DataFrame.\n",
      "Try using .loc[row_indexer,col_indexer] = value instead\n",
      "\n",
      "See the caveats in the documentation: https://pandas.pydata.org/pandas-docs/stable/user_guide/indexing.html#returning-a-view-versus-a-copy\n",
      "  categoricals[column] = categoricals[column].replace(specialchars,'', regex=True)\n",
      "C:\\Users\\franc\\AppData\\Local\\Temp/ipykernel_6016/1315139941.py:2: SettingWithCopyWarning: \n",
      "A value is trying to be set on a copy of a slice from a DataFrame.\n",
      "Try using .loc[row_indexer,col_indexer] = value instead\n",
      "\n",
      "See the caveats in the documentation: https://pandas.pydata.org/pandas-docs/stable/user_guide/indexing.html#returning-a-view-versus-a-copy\n",
      "  categoricals['Release_Clause'] = categoricals['Release_Clause'].replace({'€': '', 'K': '*1e3', 'M': '*1e6'}, regex=True).map(pd.eval).astype(float)\n",
      "C:\\Users\\franc\\AppData\\Local\\Temp/ipykernel_6016/1315139941.py:3: SettingWithCopyWarning: \n",
      "A value is trying to be set on a copy of a slice from a DataFrame.\n",
      "Try using .loc[row_indexer,col_indexer] = value instead\n",
      "\n",
      "See the caveats in the documentation: https://pandas.pydata.org/pandas-docs/stable/user_guide/indexing.html#returning-a-view-versus-a-copy\n",
      "  categoricals['Wage'] = categoricals['Wage'].replace({'€': '', 'K': '*1e3', 'M': '*1e6'}, regex=True).map(pd.eval).astype(float)\n"
     ]
    }
   ],
   "source": [
    "cleaned_val = data_clear(file_val)"
   ]
  },
  {
   "cell_type": "code",
   "execution_count": 172,
   "id": "b75b4760",
   "metadata": {},
   "outputs": [
    {
     "data": {
      "text/plain": [
       "Age          0\n",
       "Growth       0\n",
       "Attacking    0\n",
       "Crossing     0\n",
       "Finishing    0\n",
       "            ..\n",
       "LCB          0\n",
       "CB           0\n",
       "RCB          0\n",
       "RB           0\n",
       "GK           0\n",
       "Length: 91, dtype: int64"
      ]
     },
     "execution_count": 172,
     "metadata": {},
     "output_type": "execute_result"
    }
   ],
   "source": [
    "cleaned_val.isna().sum()"
   ]
  },
  {
   "cell_type": "code",
   "execution_count": 173,
   "id": "8fb83402",
   "metadata": {},
   "outputs": [
    {
     "data": {
      "text/plain": [
       "(1949, 91)"
      ]
     },
     "execution_count": 173,
     "metadata": {},
     "output_type": "execute_result"
    }
   ],
   "source": [
    "cleaned_val.shape"
   ]
  },
  {
   "cell_type": "code",
   "execution_count": 174,
   "id": "d8cf4ddc",
   "metadata": {},
   "outputs": [],
   "source": [
    "categoricals_val = cleaned_val.select_dtypes(['object'])\n",
    "encoded_val = encoder.transform(categoricals_val).toarray()\n",
    "onehot_encoded_val = pd.DataFrame(encoded_val, columns=cols)"
   ]
  },
  {
   "cell_type": "code",
   "execution_count": 175,
   "id": "4dc45707",
   "metadata": {},
   "outputs": [
    {
     "data": {
      "text/plain": [
       "foot_Right    0\n",
       "A/W_Low       0\n",
       "A/W_Medium    0\n",
       "D/W_Low       0\n",
       "D/W_Medium    0\n",
       "dtype: int64"
      ]
     },
     "execution_count": 175,
     "metadata": {},
     "output_type": "execute_result"
    }
   ],
   "source": [
    "onehot_encoded_val.isna().sum()"
   ]
  },
  {
   "cell_type": "code",
   "execution_count": 176,
   "id": "89231785",
   "metadata": {},
   "outputs": [
    {
     "data": {
      "text/plain": [
       "(1949, 5)"
      ]
     },
     "execution_count": 176,
     "metadata": {},
     "output_type": "execute_result"
    }
   ],
   "source": [
    "onehot_encoded_val.shape"
   ]
  },
  {
   "cell_type": "code",
   "execution_count": 177,
   "id": "258fd29f",
   "metadata": {},
   "outputs": [],
   "source": [
    "y_val = cleaned_val['OVA']\n",
    "cleaned_val = cleaned_val.drop(['OVA'], axis=1)\n",
    "numerical_val = cleaned_val._get_numeric_data()\n",
    "X_normalized_val = transformer.transform(numerical_val)\n",
    "X_normalized_val = pd.DataFrame(X_normalized_val, columns=numerical_val.columns)"
   ]
  },
  {
   "cell_type": "code",
   "execution_count": 178,
   "id": "d1de6ec7",
   "metadata": {},
   "outputs": [
    {
     "data": {
      "text/plain": [
       "Age          0\n",
       "Growth       0\n",
       "Attacking    0\n",
       "Crossing     0\n",
       "Finishing    0\n",
       "            ..\n",
       "LCB          0\n",
       "CB           0\n",
       "RCB          0\n",
       "RB           0\n",
       "GK           0\n",
       "Length: 87, dtype: int64"
      ]
     },
     "execution_count": 178,
     "metadata": {},
     "output_type": "execute_result"
    }
   ],
   "source": [
    "X_normalized_val.isna().sum()"
   ]
  },
  {
   "cell_type": "code",
   "execution_count": 179,
   "id": "6c81e1cb",
   "metadata": {},
   "outputs": [
    {
     "data": {
      "text/plain": [
       "(1949, 87)"
      ]
     },
     "execution_count": 179,
     "metadata": {},
     "output_type": "execute_result"
    }
   ],
   "source": [
    "X_normalized_val.shape"
   ]
  },
  {
   "cell_type": "code",
   "execution_count": 180,
   "id": "85b59129",
   "metadata": {},
   "outputs": [],
   "source": [
    "X_concat_val = pd.concat([X_normalized_val, onehot_encoded_val], axis=1)"
   ]
  },
  {
   "cell_type": "code",
   "execution_count": 181,
   "id": "1b536fa3",
   "metadata": {},
   "outputs": [
    {
     "data": {
      "text/plain": [
       "Age           0\n",
       "Growth        0\n",
       "Attacking     0\n",
       "Crossing      0\n",
       "Finishing     0\n",
       "             ..\n",
       "foot_Right    0\n",
       "A/W_Low       0\n",
       "A/W_Medium    0\n",
       "D/W_Low       0\n",
       "D/W_Medium    0\n",
       "Length: 92, dtype: int64"
      ]
     },
     "execution_count": 181,
     "metadata": {},
     "output_type": "execute_result"
    }
   ],
   "source": [
    "X_concat_val.isna().sum()"
   ]
  },
  {
   "cell_type": "code",
   "execution_count": 182,
   "id": "8b983c47",
   "metadata": {},
   "outputs": [
    {
     "data": {
      "text/html": [
       "<div>\n",
       "<style scoped>\n",
       "    .dataframe tbody tr th:only-of-type {\n",
       "        vertical-align: middle;\n",
       "    }\n",
       "\n",
       "    .dataframe tbody tr th {\n",
       "        vertical-align: top;\n",
       "    }\n",
       "\n",
       "    .dataframe thead th {\n",
       "        text-align: right;\n",
       "    }\n",
       "</style>\n",
       "<table border=\"1\" class=\"dataframe\">\n",
       "  <thead>\n",
       "    <tr style=\"text-align: right;\">\n",
       "      <th></th>\n",
       "      <th>Age</th>\n",
       "      <th>Growth</th>\n",
       "      <th>Attacking</th>\n",
       "      <th>Crossing</th>\n",
       "      <th>Finishing</th>\n",
       "      <th>Heading_Accuracy</th>\n",
       "      <th>Short_Passing</th>\n",
       "      <th>Volleys</th>\n",
       "      <th>Skill</th>\n",
       "      <th>Dribbling</th>\n",
       "      <th>...</th>\n",
       "      <th>LCB</th>\n",
       "      <th>CB</th>\n",
       "      <th>RCB</th>\n",
       "      <th>RB</th>\n",
       "      <th>GK</th>\n",
       "      <th>foot_Right</th>\n",
       "      <th>A/W_Low</th>\n",
       "      <th>A/W_Medium</th>\n",
       "      <th>D/W_Low</th>\n",
       "      <th>D/W_Medium</th>\n",
       "    </tr>\n",
       "  </thead>\n",
       "  <tbody>\n",
       "    <tr>\n",
       "      <th>0</th>\n",
       "      <td>0.259259</td>\n",
       "      <td>0.269231</td>\n",
       "      <td>0.475949</td>\n",
       "      <td>0.465909</td>\n",
       "      <td>0.195652</td>\n",
       "      <td>0.647727</td>\n",
       "      <td>0.590361</td>\n",
       "      <td>0.418605</td>\n",
       "      <td>0.433255</td>\n",
       "      <td>0.428571</td>\n",
       "      <td>...</td>\n",
       "      <td>0.708333</td>\n",
       "      <td>0.708333</td>\n",
       "      <td>0.708333</td>\n",
       "      <td>0.681159</td>\n",
       "      <td>0.088608</td>\n",
       "      <td>1.0</td>\n",
       "      <td>1.0</td>\n",
       "      <td>0.0</td>\n",
       "      <td>0.0</td>\n",
       "      <td>0.0</td>\n",
       "    </tr>\n",
       "    <tr>\n",
       "      <th>1</th>\n",
       "      <td>0.222222</td>\n",
       "      <td>0.192308</td>\n",
       "      <td>0.648101</td>\n",
       "      <td>0.636364</td>\n",
       "      <td>0.619565</td>\n",
       "      <td>0.443182</td>\n",
       "      <td>0.614458</td>\n",
       "      <td>0.767442</td>\n",
       "      <td>0.672131</td>\n",
       "      <td>0.780220</td>\n",
       "      <td>...</td>\n",
       "      <td>0.305556</td>\n",
       "      <td>0.305556</td>\n",
       "      <td>0.305556</td>\n",
       "      <td>0.449275</td>\n",
       "      <td>0.101266</td>\n",
       "      <td>1.0</td>\n",
       "      <td>0.0</td>\n",
       "      <td>0.0</td>\n",
       "      <td>1.0</td>\n",
       "      <td>0.0</td>\n",
       "    </tr>\n",
       "    <tr>\n",
       "      <th>2</th>\n",
       "      <td>0.111111</td>\n",
       "      <td>0.653846</td>\n",
       "      <td>0.015190</td>\n",
       "      <td>0.011364</td>\n",
       "      <td>0.021739</td>\n",
       "      <td>0.068182</td>\n",
       "      <td>0.120482</td>\n",
       "      <td>0.000000</td>\n",
       "      <td>0.021077</td>\n",
       "      <td>0.010989</td>\n",
       "      <td>...</td>\n",
       "      <td>0.027778</td>\n",
       "      <td>0.027778</td>\n",
       "      <td>0.027778</td>\n",
       "      <td>0.028986</td>\n",
       "      <td>0.556962</td>\n",
       "      <td>1.0</td>\n",
       "      <td>0.0</td>\n",
       "      <td>1.0</td>\n",
       "      <td>0.0</td>\n",
       "      <td>1.0</td>\n",
       "    </tr>\n",
       "    <tr>\n",
       "      <th>3</th>\n",
       "      <td>0.000000</td>\n",
       "      <td>0.884615</td>\n",
       "      <td>0.437975</td>\n",
       "      <td>0.363636</td>\n",
       "      <td>0.304348</td>\n",
       "      <td>0.568182</td>\n",
       "      <td>0.578313</td>\n",
       "      <td>0.325581</td>\n",
       "      <td>0.423888</td>\n",
       "      <td>0.505495</td>\n",
       "      <td>...</td>\n",
       "      <td>0.527778</td>\n",
       "      <td>0.527778</td>\n",
       "      <td>0.527778</td>\n",
       "      <td>0.565217</td>\n",
       "      <td>0.025316</td>\n",
       "      <td>1.0</td>\n",
       "      <td>0.0</td>\n",
       "      <td>1.0</td>\n",
       "      <td>0.0</td>\n",
       "      <td>1.0</td>\n",
       "    </tr>\n",
       "    <tr>\n",
       "      <th>4</th>\n",
       "      <td>0.296296</td>\n",
       "      <td>0.192308</td>\n",
       "      <td>0.640506</td>\n",
       "      <td>0.579545</td>\n",
       "      <td>0.608696</td>\n",
       "      <td>0.454545</td>\n",
       "      <td>0.807229</td>\n",
       "      <td>0.604651</td>\n",
       "      <td>0.665105</td>\n",
       "      <td>0.725275</td>\n",
       "      <td>...</td>\n",
       "      <td>0.722222</td>\n",
       "      <td>0.722222</td>\n",
       "      <td>0.722222</td>\n",
       "      <td>0.797101</td>\n",
       "      <td>0.113924</td>\n",
       "      <td>1.0</td>\n",
       "      <td>0.0</td>\n",
       "      <td>1.0</td>\n",
       "      <td>0.0</td>\n",
       "      <td>1.0</td>\n",
       "    </tr>\n",
       "  </tbody>\n",
       "</table>\n",
       "<p>5 rows × 92 columns</p>\n",
       "</div>"
      ],
      "text/plain": [
       "        Age    Growth  Attacking  Crossing  Finishing  Heading_Accuracy  \\\n",
       "0  0.259259  0.269231   0.475949  0.465909   0.195652          0.647727   \n",
       "1  0.222222  0.192308   0.648101  0.636364   0.619565          0.443182   \n",
       "2  0.111111  0.653846   0.015190  0.011364   0.021739          0.068182   \n",
       "3  0.000000  0.884615   0.437975  0.363636   0.304348          0.568182   \n",
       "4  0.296296  0.192308   0.640506  0.579545   0.608696          0.454545   \n",
       "\n",
       "   Short_Passing   Volleys     Skill  Dribbling  ...       LCB        CB  \\\n",
       "0       0.590361  0.418605  0.433255   0.428571  ...  0.708333  0.708333   \n",
       "1       0.614458  0.767442  0.672131   0.780220  ...  0.305556  0.305556   \n",
       "2       0.120482  0.000000  0.021077   0.010989  ...  0.027778  0.027778   \n",
       "3       0.578313  0.325581  0.423888   0.505495  ...  0.527778  0.527778   \n",
       "4       0.807229  0.604651  0.665105   0.725275  ...  0.722222  0.722222   \n",
       "\n",
       "        RCB        RB        GK  foot_Right  A/W_Low  A/W_Medium  D/W_Low  \\\n",
       "0  0.708333  0.681159  0.088608         1.0      1.0         0.0      0.0   \n",
       "1  0.305556  0.449275  0.101266         1.0      0.0         0.0      1.0   \n",
       "2  0.027778  0.028986  0.556962         1.0      0.0         1.0      0.0   \n",
       "3  0.527778  0.565217  0.025316         1.0      0.0         1.0      0.0   \n",
       "4  0.722222  0.797101  0.113924         1.0      0.0         1.0      0.0   \n",
       "\n",
       "   D/W_Medium  \n",
       "0         0.0  \n",
       "1         0.0  \n",
       "2         1.0  \n",
       "3         1.0  \n",
       "4         1.0  \n",
       "\n",
       "[5 rows x 92 columns]"
      ]
     },
     "execution_count": 182,
     "metadata": {},
     "output_type": "execute_result"
    }
   ],
   "source": [
    "X_concat_val.head()"
   ]
  },
  {
   "cell_type": "code",
   "execution_count": null,
   "id": "cb9ba3f7",
   "metadata": {},
   "outputs": [],
   "source": []
  },
  {
   "cell_type": "code",
   "execution_count": 183,
   "id": "54e52813",
   "metadata": {},
   "outputs": [],
   "source": [
    "X_val = X_concat_val"
   ]
  },
  {
   "cell_type": "code",
   "execution_count": null,
   "id": "70df9ddb",
   "metadata": {},
   "outputs": [],
   "source": []
  },
  {
   "cell_type": "code",
   "execution_count": 187,
   "id": "2c86f35f",
   "metadata": {},
   "outputs": [
    {
     "data": {
      "text/html": [
       "<div>\n",
       "<style scoped>\n",
       "    .dataframe tbody tr th:only-of-type {\n",
       "        vertical-align: middle;\n",
       "    }\n",
       "\n",
       "    .dataframe tbody tr th {\n",
       "        vertical-align: top;\n",
       "    }\n",
       "\n",
       "    .dataframe thead th {\n",
       "        text-align: right;\n",
       "    }\n",
       "</style>\n",
       "<table border=\"1\" class=\"dataframe\">\n",
       "  <thead>\n",
       "    <tr style=\"text-align: right;\">\n",
       "      <th></th>\n",
       "      <th>Age</th>\n",
       "      <th>Growth</th>\n",
       "      <th>Attacking</th>\n",
       "      <th>Crossing</th>\n",
       "      <th>Finishing</th>\n",
       "      <th>Heading_Accuracy</th>\n",
       "      <th>Short_Passing</th>\n",
       "      <th>Volleys</th>\n",
       "      <th>Skill</th>\n",
       "      <th>Dribbling</th>\n",
       "      <th>...</th>\n",
       "      <th>CDM</th>\n",
       "      <th>RDM</th>\n",
       "      <th>RWB</th>\n",
       "      <th>LB</th>\n",
       "      <th>LCB</th>\n",
       "      <th>CB</th>\n",
       "      <th>RCB</th>\n",
       "      <th>RB</th>\n",
       "      <th>GK</th>\n",
       "      <th>0</th>\n",
       "    </tr>\n",
       "  </thead>\n",
       "  <tbody>\n",
       "    <tr>\n",
       "      <th>0</th>\n",
       "      <td>23.0</td>\n",
       "      <td>7.0</td>\n",
       "      <td>230.0</td>\n",
       "      <td>47.0</td>\n",
       "      <td>21.0</td>\n",
       "      <td>62.0</td>\n",
       "      <td>60.0</td>\n",
       "      <td>40.0</td>\n",
       "      <td>228.0</td>\n",
       "      <td>44.0</td>\n",
       "      <td>...</td>\n",
       "      <td>61.0</td>\n",
       "      <td>61.0</td>\n",
       "      <td>59.0</td>\n",
       "      <td>61.0</td>\n",
       "      <td>67.0</td>\n",
       "      <td>67.0</td>\n",
       "      <td>67.0</td>\n",
       "      <td>61.0</td>\n",
       "      <td>16.0</td>\n",
       "      <td>65.534286</td>\n",
       "    </tr>\n",
       "    <tr>\n",
       "      <th>1</th>\n",
       "      <td>22.0</td>\n",
       "      <td>5.0</td>\n",
       "      <td>298.0</td>\n",
       "      <td>62.0</td>\n",
       "      <td>60.0</td>\n",
       "      <td>44.0</td>\n",
       "      <td>62.0</td>\n",
       "      <td>70.0</td>\n",
       "      <td>330.0</td>\n",
       "      <td>76.0</td>\n",
       "      <td>...</td>\n",
       "      <td>47.0</td>\n",
       "      <td>47.0</td>\n",
       "      <td>49.0</td>\n",
       "      <td>45.0</td>\n",
       "      <td>38.0</td>\n",
       "      <td>38.0</td>\n",
       "      <td>38.0</td>\n",
       "      <td>45.0</td>\n",
       "      <td>17.0</td>\n",
       "      <td>65.427765</td>\n",
       "    </tr>\n",
       "    <tr>\n",
       "      <th>2</th>\n",
       "      <td>19.0</td>\n",
       "      <td>17.0</td>\n",
       "      <td>48.0</td>\n",
       "      <td>7.0</td>\n",
       "      <td>5.0</td>\n",
       "      <td>11.0</td>\n",
       "      <td>21.0</td>\n",
       "      <td>4.0</td>\n",
       "      <td>52.0</td>\n",
       "      <td>6.0</td>\n",
       "      <td>...</td>\n",
       "      <td>18.0</td>\n",
       "      <td>18.0</td>\n",
       "      <td>16.0</td>\n",
       "      <td>16.0</td>\n",
       "      <td>18.0</td>\n",
       "      <td>18.0</td>\n",
       "      <td>18.0</td>\n",
       "      <td>16.0</td>\n",
       "      <td>53.0</td>\n",
       "      <td>53.865875</td>\n",
       "    </tr>\n",
       "    <tr>\n",
       "      <th>3</th>\n",
       "      <td>16.0</td>\n",
       "      <td>23.0</td>\n",
       "      <td>215.0</td>\n",
       "      <td>38.0</td>\n",
       "      <td>31.0</td>\n",
       "      <td>55.0</td>\n",
       "      <td>59.0</td>\n",
       "      <td>32.0</td>\n",
       "      <td>224.0</td>\n",
       "      <td>51.0</td>\n",
       "      <td>...</td>\n",
       "      <td>54.0</td>\n",
       "      <td>54.0</td>\n",
       "      <td>53.0</td>\n",
       "      <td>53.0</td>\n",
       "      <td>54.0</td>\n",
       "      <td>54.0</td>\n",
       "      <td>54.0</td>\n",
       "      <td>53.0</td>\n",
       "      <td>11.0</td>\n",
       "      <td>57.799637</td>\n",
       "    </tr>\n",
       "    <tr>\n",
       "      <th>4</th>\n",
       "      <td>24.0</td>\n",
       "      <td>5.0</td>\n",
       "      <td>295.0</td>\n",
       "      <td>57.0</td>\n",
       "      <td>59.0</td>\n",
       "      <td>45.0</td>\n",
       "      <td>78.0</td>\n",
       "      <td>56.0</td>\n",
       "      <td>327.0</td>\n",
       "      <td>71.0</td>\n",
       "      <td>...</td>\n",
       "      <td>72.0</td>\n",
       "      <td>72.0</td>\n",
       "      <td>70.0</td>\n",
       "      <td>69.0</td>\n",
       "      <td>68.0</td>\n",
       "      <td>68.0</td>\n",
       "      <td>68.0</td>\n",
       "      <td>69.0</td>\n",
       "      <td>18.0</td>\n",
       "      <td>69.562195</td>\n",
       "    </tr>\n",
       "    <tr>\n",
       "      <th>...</th>\n",
       "      <td>...</td>\n",
       "      <td>...</td>\n",
       "      <td>...</td>\n",
       "      <td>...</td>\n",
       "      <td>...</td>\n",
       "      <td>...</td>\n",
       "      <td>...</td>\n",
       "      <td>...</td>\n",
       "      <td>...</td>\n",
       "      <td>...</td>\n",
       "      <td>...</td>\n",
       "      <td>...</td>\n",
       "      <td>...</td>\n",
       "      <td>...</td>\n",
       "      <td>...</td>\n",
       "      <td>...</td>\n",
       "      <td>...</td>\n",
       "      <td>...</td>\n",
       "      <td>...</td>\n",
       "      <td>...</td>\n",
       "      <td>...</td>\n",
       "    </tr>\n",
       "    <tr>\n",
       "      <th>1994</th>\n",
       "      <td>21.0</td>\n",
       "      <td>11.0</td>\n",
       "      <td>197.0</td>\n",
       "      <td>59.0</td>\n",
       "      <td>23.0</td>\n",
       "      <td>42.0</td>\n",
       "      <td>51.0</td>\n",
       "      <td>22.0</td>\n",
       "      <td>207.0</td>\n",
       "      <td>51.0</td>\n",
       "      <td>...</td>\n",
       "      <td>52.0</td>\n",
       "      <td>52.0</td>\n",
       "      <td>58.0</td>\n",
       "      <td>58.0</td>\n",
       "      <td>54.0</td>\n",
       "      <td>54.0</td>\n",
       "      <td>54.0</td>\n",
       "      <td>58.0</td>\n",
       "      <td>15.0</td>\n",
       "      <td>NaN</td>\n",
       "    </tr>\n",
       "    <tr>\n",
       "      <th>1995</th>\n",
       "      <td>21.0</td>\n",
       "      <td>9.0</td>\n",
       "      <td>77.0</td>\n",
       "      <td>13.0</td>\n",
       "      <td>9.0</td>\n",
       "      <td>14.0</td>\n",
       "      <td>34.0</td>\n",
       "      <td>7.0</td>\n",
       "      <td>70.0</td>\n",
       "      <td>9.0</td>\n",
       "      <td>...</td>\n",
       "      <td>23.0</td>\n",
       "      <td>23.0</td>\n",
       "      <td>20.0</td>\n",
       "      <td>20.0</td>\n",
       "      <td>22.0</td>\n",
       "      <td>22.0</td>\n",
       "      <td>22.0</td>\n",
       "      <td>20.0</td>\n",
       "      <td>58.0</td>\n",
       "      <td>NaN</td>\n",
       "    </tr>\n",
       "    <tr>\n",
       "      <th>1996</th>\n",
       "      <td>27.0</td>\n",
       "      <td>0.0</td>\n",
       "      <td>332.0</td>\n",
       "      <td>76.0</td>\n",
       "      <td>72.0</td>\n",
       "      <td>34.0</td>\n",
       "      <td>79.0</td>\n",
       "      <td>71.0</td>\n",
       "      <td>373.0</td>\n",
       "      <td>77.0</td>\n",
       "      <td>...</td>\n",
       "      <td>60.0</td>\n",
       "      <td>60.0</td>\n",
       "      <td>62.0</td>\n",
       "      <td>57.0</td>\n",
       "      <td>47.0</td>\n",
       "      <td>47.0</td>\n",
       "      <td>47.0</td>\n",
       "      <td>57.0</td>\n",
       "      <td>18.0</td>\n",
       "      <td>NaN</td>\n",
       "    </tr>\n",
       "    <tr>\n",
       "      <th>1997</th>\n",
       "      <td>34.0</td>\n",
       "      <td>0.0</td>\n",
       "      <td>268.0</td>\n",
       "      <td>58.0</td>\n",
       "      <td>44.0</td>\n",
       "      <td>61.0</td>\n",
       "      <td>62.0</td>\n",
       "      <td>43.0</td>\n",
       "      <td>261.0</td>\n",
       "      <td>56.0</td>\n",
       "      <td>...</td>\n",
       "      <td>62.0</td>\n",
       "      <td>62.0</td>\n",
       "      <td>60.0</td>\n",
       "      <td>60.0</td>\n",
       "      <td>63.0</td>\n",
       "      <td>63.0</td>\n",
       "      <td>63.0</td>\n",
       "      <td>60.0</td>\n",
       "      <td>14.0</td>\n",
       "      <td>NaN</td>\n",
       "    </tr>\n",
       "    <tr>\n",
       "      <th>1998</th>\n",
       "      <td>18.0</td>\n",
       "      <td>16.0</td>\n",
       "      <td>276.0</td>\n",
       "      <td>49.0</td>\n",
       "      <td>54.0</td>\n",
       "      <td>51.0</td>\n",
       "      <td>70.0</td>\n",
       "      <td>52.0</td>\n",
       "      <td>300.0</td>\n",
       "      <td>60.0</td>\n",
       "      <td>...</td>\n",
       "      <td>55.0</td>\n",
       "      <td>55.0</td>\n",
       "      <td>55.0</td>\n",
       "      <td>54.0</td>\n",
       "      <td>51.0</td>\n",
       "      <td>51.0</td>\n",
       "      <td>51.0</td>\n",
       "      <td>54.0</td>\n",
       "      <td>16.0</td>\n",
       "      <td>NaN</td>\n",
       "    </tr>\n",
       "  </tbody>\n",
       "</table>\n",
       "<p>1998 rows × 91 columns</p>\n",
       "</div>"
      ],
      "text/plain": [
       "       Age  Growth  Attacking  Crossing  Finishing  Heading_Accuracy  \\\n",
       "0     23.0     7.0      230.0      47.0       21.0              62.0   \n",
       "1     22.0     5.0      298.0      62.0       60.0              44.0   \n",
       "2     19.0    17.0       48.0       7.0        5.0              11.0   \n",
       "3     16.0    23.0      215.0      38.0       31.0              55.0   \n",
       "4     24.0     5.0      295.0      57.0       59.0              45.0   \n",
       "...    ...     ...        ...       ...        ...               ...   \n",
       "1994  21.0    11.0      197.0      59.0       23.0              42.0   \n",
       "1995  21.0     9.0       77.0      13.0        9.0              14.0   \n",
       "1996  27.0     0.0      332.0      76.0       72.0              34.0   \n",
       "1997  34.0     0.0      268.0      58.0       44.0              61.0   \n",
       "1998  18.0    16.0      276.0      49.0       54.0              51.0   \n",
       "\n",
       "      Short_Passing  Volleys  Skill  Dribbling  ...   CDM   RDM   RWB    LB  \\\n",
       "0              60.0     40.0  228.0       44.0  ...  61.0  61.0  59.0  61.0   \n",
       "1              62.0     70.0  330.0       76.0  ...  47.0  47.0  49.0  45.0   \n",
       "2              21.0      4.0   52.0        6.0  ...  18.0  18.0  16.0  16.0   \n",
       "3              59.0     32.0  224.0       51.0  ...  54.0  54.0  53.0  53.0   \n",
       "4              78.0     56.0  327.0       71.0  ...  72.0  72.0  70.0  69.0   \n",
       "...             ...      ...    ...        ...  ...   ...   ...   ...   ...   \n",
       "1994           51.0     22.0  207.0       51.0  ...  52.0  52.0  58.0  58.0   \n",
       "1995           34.0      7.0   70.0        9.0  ...  23.0  23.0  20.0  20.0   \n",
       "1996           79.0     71.0  373.0       77.0  ...  60.0  60.0  62.0  57.0   \n",
       "1997           62.0     43.0  261.0       56.0  ...  62.0  62.0  60.0  60.0   \n",
       "1998           70.0     52.0  300.0       60.0  ...  55.0  55.0  55.0  54.0   \n",
       "\n",
       "       LCB    CB   RCB    RB    GK          0  \n",
       "0     67.0  67.0  67.0  61.0  16.0  65.534286  \n",
       "1     38.0  38.0  38.0  45.0  17.0  65.427765  \n",
       "2     18.0  18.0  18.0  16.0  53.0  53.865875  \n",
       "3     54.0  54.0  54.0  53.0  11.0  57.799637  \n",
       "4     68.0  68.0  68.0  69.0  18.0  69.562195  \n",
       "...    ...   ...   ...   ...   ...        ...  \n",
       "1994  54.0  54.0  54.0  58.0  15.0        NaN  \n",
       "1995  22.0  22.0  22.0  20.0  58.0        NaN  \n",
       "1996  47.0  47.0  47.0  57.0  18.0        NaN  \n",
       "1997  63.0  63.0  63.0  60.0  14.0        NaN  \n",
       "1998  51.0  51.0  51.0  54.0  16.0        NaN  \n",
       "\n",
       "[1998 rows x 91 columns]"
      ]
     },
     "execution_count": 187,
     "metadata": {},
     "output_type": "execute_result"
    }
   ],
   "source": [
    "results_val = lm.predict(X_val)\n",
    "pd.concat([cleaned_val,pd.Series(results_val)],axis=1)"
   ]
  },
  {
   "cell_type": "code",
   "execution_count": 188,
   "id": "b3680f41",
   "metadata": {},
   "outputs": [
    {
     "data": {
      "text/plain": [
       "0.910747062881108"
      ]
     },
     "execution_count": 188,
     "metadata": {},
     "output_type": "execute_result"
    }
   ],
   "source": [
    "predictions_val = lm.predict(X_val)\n",
    "r2_score(y_val, predictions_val)"
   ]
  },
  {
   "cell_type": "code",
   "execution_count": 189,
   "id": "6bc7c0fe",
   "metadata": {},
   "outputs": [
    {
     "name": "stdout",
     "output_type": "stream",
     "text": [
      "4.037813654405377\n",
      "2.0094311768272575\n",
      "1.5734840968500472\n"
     ]
    }
   ],
   "source": [
    "mse = mean_squared_error(y_val,predictions_val)\n",
    "print(mse)\n",
    "rmse = math.sqrt(mse)\n",
    "print(rmse)\n",
    "mae = mean_absolute_error(y_val, predictions_val)\n",
    "print(mae)"
   ]
  },
  {
   "cell_type": "code",
   "execution_count": null,
   "id": "4825b8d9",
   "metadata": {},
   "outputs": [],
   "source": []
  },
  {
   "cell_type": "code",
   "execution_count": null,
   "id": "7569904e",
   "metadata": {},
   "outputs": [],
   "source": []
  }
 ],
 "metadata": {
  "kernelspec": {
   "display_name": "Python 3 (ipykernel)",
   "language": "python",
   "name": "python3"
  },
  "language_info": {
   "codemirror_mode": {
    "name": "ipython",
    "version": 3
   },
   "file_extension": ".py",
   "mimetype": "text/x-python",
   "name": "python",
   "nbconvert_exporter": "python",
   "pygments_lexer": "ipython3",
   "version": "3.9.7"
  }
 },
 "nbformat": 4,
 "nbformat_minor": 5
}
